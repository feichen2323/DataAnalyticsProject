{
 "cells": [
  {
   "cell_type": "code",
   "execution_count": 14,
   "metadata": {},
   "outputs": [],
   "source": [
    "#Question 1\n",
    "tvshows = ['Batman','Wonder Woman','SuperWoman','Superman']"
   ]
  },
  {
   "cell_type": "code",
   "execution_count": 7,
   "metadata": {},
   "outputs": [
    {
     "name": "stdout",
     "output_type": "stream",
     "text": [
      "['Batman', 'Wonder Woman', 'SuperWoman', 'Superman']\n"
     ]
    }
   ],
   "source": [
    "#Question 2 \n",
    "print(tvshows)"
   ]
  },
  {
   "cell_type": "code",
   "execution_count": 9,
   "metadata": {},
   "outputs": [
    {
     "name": "stdout",
     "output_type": "stream",
     "text": [
      "['Batman', 'SuperWoman', 'Superman', 'Wonder Woman']\n"
     ]
    }
   ],
   "source": [
    "#Question 3\n",
    "print(sorted(tvshows))"
   ]
  },
  {
   "cell_type": "code",
   "execution_count": 12,
   "metadata": {},
   "outputs": [
    {
     "name": "stdout",
     "output_type": "stream",
     "text": [
      "['Batman', 'Wonder Woman', 'SuperWoman', 'Superman']\n"
     ]
    }
   ],
   "source": [
    "#Question 4\n",
    "print(tvshows)"
   ]
  },
  {
   "cell_type": "code",
   "execution_count": 19,
   "metadata": {},
   "outputs": [
    {
     "name": "stdout",
     "output_type": "stream",
     "text": [
      "['Wonder Woman', 'Superman', 'SuperWoman', 'Batman']\n"
     ]
    }
   ],
   "source": [
    "#Question 5\n",
    "print(sorted(tvshows, reverse=True))"
   ]
  },
  {
   "cell_type": "code",
   "execution_count": 23,
   "metadata": {},
   "outputs": [
    {
     "name": "stdout",
     "output_type": "stream",
     "text": [
      "I have 4 favorite shows\n"
     ]
    }
   ],
   "source": [
    "#Question 6\n",
    "message = 'I have ' + str(len(tvshows)) + ' favorite shows'\n",
    "print(message)"
   ]
  },
  {
   "cell_type": "code",
   "execution_count": null,
   "metadata": {},
   "outputs": [],
   "source": []
  }
 ],
 "metadata": {
  "kernelspec": {
   "display_name": "Python 3",
   "language": "python",
   "name": "python3"
  },
  "language_info": {
   "codemirror_mode": {
    "name": "ipython",
    "version": 3
   },
   "file_extension": ".py",
   "mimetype": "text/x-python",
   "name": "python",
   "nbconvert_exporter": "python",
   "pygments_lexer": "ipython3",
   "version": "3.7.4"
  }
 },
 "nbformat": 4,
 "nbformat_minor": 2
}
